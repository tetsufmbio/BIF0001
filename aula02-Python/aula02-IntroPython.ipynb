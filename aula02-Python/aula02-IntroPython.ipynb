{
 "cells": [
  {
   "cell_type": "markdown",
   "metadata": {},
   "source": [
    "# Introdução a Python\n",
    "\n",
    "Este notebook te ajudará a adquirir noções da linguagem Python."
   ]
  },
  {
   "cell_type": "markdown",
   "metadata": {},
   "source": [
    "## Características da linguagem Python:\n",
    "#### Fácil de aprender e usar\n",
    "É uma linguagem amigável para desenvolver e de alto nível\n",
    "#### Linguagem expressiva\n",
    "Fácil de ler e entender o código\n",
    "#### Linguagem interpretada\n",
    "O interpretador executa o código linha por linha. Fácil de corrigir os erros;\n",
    "#### Portabilidade\n",
    "Scripts em python podem ser executados tanto em uma máquina Windows, Linux e Mac. ;\n",
    "#### Gratuito e open source\n",
    "A linguagem python é distribuído gratuitamente em seu endereço oficial [https://www.python.org/]. O código fonte também está disponível, portanto ele é um open source;\n",
    "#### Linguagem objeto orientado\n",
    "Python utiliza conceitos de classe e objeto;\n",
    "#### Extensível\n",
    "Outras linguagens como C/C++ podem ser utilizadas para compilar um código;\n",
    "#### Possui uma biblioteca padrão extensa \n",
    "Vasto conjunto de módulos e funções para um rápido desenvolvimento de aplicações;\n",
    "#### Suporte para programação em GUI\n",
    "Permite o desenvolvimento de programas com interface gráfica;\n",
    "#### Integração\n",
    "Pode ser facilmente integrado a outras linguagens como C/C++, Java, etc."
   ]
  },
  {
   "cell_type": "markdown",
   "metadata": {},
   "source": [
    "### Hello World\n",
    "\n",
    "Para imprimir textos, basta usar a função print()"
   ]
  },
  {
   "cell_type": "code",
   "execution_count": null,
   "metadata": {},
   "outputs": [],
   "source": [
    "print(\"Hello World\")"
   ]
  },
  {
   "cell_type": "code",
   "execution_count": null,
   "metadata": {},
   "outputs": [],
   "source": [
    "print('Hi everyone')"
   ]
  },
  {
   "cell_type": "markdown",
   "metadata": {},
   "source": [
    "### Comentários\n",
    "\n",
    "Linhas que iniciam com # são comentários. No Jupyter Notebook não ocorre, mas você pode comentar múltiplas linhas colocando elas entre '''."
   ]
  },
  {
   "cell_type": "code",
   "execution_count": null,
   "metadata": {},
   "outputs": [],
   "source": [
    "# Isto é um comentário\n"
   ]
  },
  {
   "cell_type": "markdown",
   "metadata": {},
   "source": [
    "No Jupyter Notebook, você pode comentar várias linhas de uma vez selecionando as linhas que quer comentar e dê o comando Ctrl + /"
   ]
  },
  {
   "cell_type": "code",
   "execution_count": null,
   "metadata": {},
   "outputs": [],
   "source": [
    "# Comente as linhas abaixo de uma só vez:\n",
    "\n",
    "'this is a string using single quotes'\n",
    "\"this is a string using double quotes\"\n",
    "'''this is a triple quoted string using single quotes'''\n",
    "\"\"\"this is a triple quoted string using double quotes\"\"\""
   ]
  },
  {
   "cell_type": "markdown",
   "metadata": {},
   "source": [
    "## Objetos em Python e seus tipos\n",
    "\n",
    "Tudo em Python é um **objeto** e todo objeto em Python é de um **tipo**. Alguns dos tipos básicos são:\n",
    "\n",
    "- **`int`** (inteiro)\n",
    "  - `10`\n",
    "  - `-3`\n",
    "- **`float`** (float)\n",
    "  - `7.41`\n",
    "  - `-0.006`\n",
    "- **`str`** (string; sequência de caracteres entre aspas simples, dupla, aspas simples tripla ou aspas dupla tripla)\n",
    "  - `'this is a string using single quotes'`\n",
    "  - `\"this is a string using double quotes\"`\n",
    "  - `'''this is a triple quoted string using single quotes'''`\n",
    "  - `\"\"\"this is a triple quoted string using double quotes\"\"\"`\n",
    "- **`bool`** (boolean; valor binário que recebe true ou false)\n",
    "  - `True`\n",
    "  - `False`\n",
    "- **`NoneType`** (um tipo especial que representa ausência de valor)\n",
    "  - `None`\n",
    " \n",
    "Use a função type() para verificar os tipos de cada objeto citado acima:"
   ]
  },
  {
   "cell_type": "code",
   "execution_count": null,
   "metadata": {},
   "outputs": [],
   "source": [
    "type(None)"
   ]
  },
  {
   "cell_type": "code",
   "execution_count": null,
   "metadata": {},
   "outputs": [],
   "source": []
  },
  {
   "cell_type": "code",
   "execution_count": null,
   "metadata": {},
   "outputs": [],
   "source": []
  },
  {
   "cell_type": "code",
   "execution_count": null,
   "metadata": {},
   "outputs": [],
   "source": []
  },
  {
   "cell_type": "markdown",
   "metadata": {},
   "source": [
    "#### Exercício\n",
    "\n",
    "Qual a diferença entre as aspas simples e dupla?"
   ]
  },
  {
   "cell_type": "raw",
   "metadata": {},
   "source": []
  },
  {
   "cell_type": "markdown",
   "metadata": {},
   "source": [
    "Qual a diferença entre colocar uma string entre uma aspa ou três aspas?"
   ]
  },
  {
   "cell_type": "raw",
   "metadata": {},
   "source": []
  },
  {
   "cell_type": "markdown",
   "metadata": {},
   "source": [
    "Como eu poderia armazenar imprimir na tela a seguinte frase: Hello 'python'!"
   ]
  },
  {
   "cell_type": "code",
   "execution_count": null,
   "metadata": {},
   "outputs": [],
   "source": []
  },
  {
   "cell_type": "markdown",
   "metadata": {},
   "source": [
    "## Variáveis em Python\n",
    "\n",
    "Em Python, uma **variável** é um nome que você especifica no seu código que mapeia um **objeto** particular ou um valor.\n",
    "\n",
    "Definindo uma variável, nós podemos nos referir a coisas por nome que faz sentido para nós. \n",
    "\n",
    "Os nomes de variáveis só podem conter letras, underscores (`_`) ou números (não pode haver espaços, traços ou outros caracteres). Além disso, o nome de uma variável deve começar com uma letra ou underscore.\n",
    "\n",
    "A atribuição de um objeto a uma variável se dá pelo sinal de \"=\".\n",
    "\n",
    "### Exercício\n",
    "\n",
    "Crie uma variável que receberá o seu nome, e uma outra variável que receberá a sua idade."
   ]
  },
  {
   "cell_type": "code",
   "execution_count": null,
   "metadata": {},
   "outputs": [],
   "source": [
    "nome = \"meu nome\"\n"
   ]
  },
  {
   "cell_type": "markdown",
   "metadata": {},
   "source": [
    "## Operações básicas\n",
    "\n",
    "No Python, existem diferentes tipos de  **operadores** que operam em diferentes valores. Alguns dos operadores básicos incluem:\n",
    "\n",
    "- Operadores aritméticos\n",
    "  - **`+`** (adição)\n",
    "  - **`-`** (subtração)\n",
    "  - **`*`** (multiplicação)\n",
    "  - **`/`** (divisão)\n",
    "  - **`%`** (módulo)\n",
    "  - __`**`__ (expoente)\n",
    "- Operadores de atribuição\n",
    "  - **`=`** (atribuir um valor)\n",
    "  - **`+=`** (adiciona e re-atribui; incrementar)\n",
    "  - **`-=`** (retira e re-atribui; decrementar)\n",
    "  - **`*=`** (multiplica e re-atribui)\n",
    "- Operadores de comparação (retorna `True` ou `False`)\n",
    "  - **`==`** (igual a)\n",
    "  - **`!=`** (não igual a)\n",
    "  - **`<`** (menor que)\n",
    "  - **`<=`** (menor ou igual que)\n",
    "  - **`>`** (maior que)\n",
    "  - **`>=`** (maior ou igual a)\n",
    "\n",
    "Quando múltiplos operadores são utilizados em uma expressão única, o **operador precedente** determina quais partes da expressão são avaliados em qual ordem. Operadores com precedência alta são avaliados primeiro. Operadores com a mesma precedência são avaliados da esquerda para direita.\n",
    "\n",
    "- `()` parêntenses, for grouping\n",
    "- `**` expoente\n",
    "- `*`, `/` multiplicação e divisão\n",
    "- `+`, `-` adição e subtração\n",
    "- `==`, `!=`, `<`, `<=`, `>`, `>=` comparações"
   ]
  },
  {
   "cell_type": "code",
   "execution_count": null,
   "metadata": {},
   "outputs": [],
   "source": [
    "# Atribuindo alguns valores a algumas variáveis\n",
    "num1 = 10\n",
    "num2 = -3\n",
    "num3 = 7.41\n",
    "num4 = -.6\n",
    "num5 = 7\n",
    "num6 = 3\n",
    "num7 = 11.11"
   ]
  },
  {
   "cell_type": "code",
   "execution_count": null,
   "metadata": {},
   "outputs": [],
   "source": [
    "# Adição\n",
    "num1 + num2"
   ]
  },
  {
   "cell_type": "code",
   "execution_count": null,
   "metadata": {},
   "outputs": [],
   "source": [
    "# Subtração\n",
    "num2 - num3"
   ]
  },
  {
   "cell_type": "code",
   "execution_count": null,
   "metadata": {},
   "outputs": [],
   "source": [
    "# Multiplicação\n",
    "num3 * num4"
   ]
  },
  {
   "cell_type": "code",
   "execution_count": null,
   "metadata": {},
   "outputs": [],
   "source": [
    "# Divisão\n",
    "num4 / num5"
   ]
  },
  {
   "cell_type": "code",
   "execution_count": null,
   "metadata": {},
   "outputs": [],
   "source": [
    "# Módulo\n",
    "num5 % num6"
   ]
  },
  {
   "cell_type": "code",
   "execution_count": null,
   "metadata": {},
   "outputs": [],
   "source": [
    "# Expoente\n",
    "num5 ** num6"
   ]
  },
  {
   "cell_type": "code",
   "execution_count": null,
   "metadata": {},
   "outputs": [],
   "source": [
    "# Incrementar variável existente\n",
    "num7 += 4\n",
    "num7"
   ]
  },
  {
   "cell_type": "code",
   "execution_count": null,
   "metadata": {},
   "outputs": [],
   "source": [
    "# Decrementar variável existente\n",
    "num6 -= 2\n",
    "num6"
   ]
  },
  {
   "cell_type": "code",
   "execution_count": null,
   "metadata": {},
   "outputs": [],
   "source": [
    "# Multiplicar e re-atribuir\n",
    "num3 *= 5\n",
    "num3"
   ]
  },
  {
   "cell_type": "code",
   "execution_count": null,
   "metadata": {},
   "outputs": [],
   "source": [
    "# Atribuir o resultado de uma expressão a uma variável\n",
    "num8 = num1 + num2 * num3\n",
    "num8"
   ]
  },
  {
   "cell_type": "code",
   "execution_count": null,
   "metadata": {},
   "outputs": [],
   "source": [
    "# As duas expressões abaixo são iguais entre eles?\n",
    "num1 + num2 == num5"
   ]
  },
  {
   "cell_type": "code",
   "execution_count": null,
   "metadata": {},
   "outputs": [],
   "source": [
    "# As duas expressões abaixo são diferentes entre eles?\n",
    "num3 != num4"
   ]
  },
  {
   "cell_type": "code",
   "execution_count": null,
   "metadata": {},
   "outputs": [],
   "source": [
    "# A primeira expressão é menor que a segunda expressão?\n",
    "num5 < num6"
   ]
  },
  {
   "cell_type": "code",
   "execution_count": null,
   "metadata": {},
   "outputs": [],
   "source": [
    "# Esta expressão é verdadeira?\n",
    "5 > 3 > 1"
   ]
  },
  {
   "cell_type": "code",
   "execution_count": null,
   "metadata": {},
   "outputs": [],
   "source": [
    "# Esta expressão é verdadeira?\n",
    "5 > 3 < 4 == 3 + 1"
   ]
  },
  {
   "cell_type": "code",
   "execution_count": null,
   "metadata": {},
   "outputs": [],
   "source": [
    "# Atribuir strings a algumas variáveis\n",
    "simple_string1 = 'an example'\n",
    "simple_string2 = \"oranges \""
   ]
  },
  {
   "cell_type": "code",
   "execution_count": null,
   "metadata": {},
   "outputs": [],
   "source": [
    "# Adição ou concatenação\n",
    "simple_string1 + ' of using the + operator'"
   ]
  },
  {
   "cell_type": "code",
   "execution_count": null,
   "metadata": {},
   "outputs": [],
   "source": [
    "# Note que a variável não foi modificado\n",
    "simple_string1"
   ]
  },
  {
   "cell_type": "code",
   "execution_count": null,
   "metadata": {},
   "outputs": [],
   "source": [
    "# Multiplicação\n",
    "simple_string2 * 4"
   ]
  },
  {
   "cell_type": "code",
   "execution_count": null,
   "metadata": {},
   "outputs": [],
   "source": [
    "# Este string não foi modificado\n",
    "simple_string2"
   ]
  },
  {
   "cell_type": "code",
   "execution_count": null,
   "metadata": {},
   "outputs": [],
   "source": [
    "# Estas duas expressões são iguais entre elas?\n",
    "simple_string1 == simple_string2"
   ]
  },
  {
   "cell_type": "code",
   "execution_count": null,
   "metadata": {},
   "outputs": [],
   "source": [
    "# Estas duas expressões são iguais entre elas?\n",
    "simple_string1 == 'an example'"
   ]
  },
  {
   "cell_type": "code",
   "execution_count": null,
   "metadata": {},
   "outputs": [],
   "source": [
    "# Adicionar (concatenar) e re-atribuir\n",
    "simple_string1 += ' that re-assigned the original string'\n",
    "simple_string1"
   ]
  },
  {
   "cell_type": "code",
   "execution_count": null,
   "metadata": {},
   "outputs": [],
   "source": [
    "# Multiplicar e re-atribuir\n",
    "simple_string2 *= 3\n",
    "simple_string2"
   ]
  },
  {
   "cell_type": "code",
   "execution_count": null,
   "metadata": {},
   "outputs": [],
   "source": [
    "# Nota: Operadores de subtração, divisão, e de decremento não se aplica a strings."
   ]
  },
  {
   "cell_type": "markdown",
   "metadata": {},
   "source": [
    "### Exercício\n",
    "\n",
    "Escreva um código em Python que resolva uma expressão de segundo grau utilizando o teorema de Bhascara. Tente resolver esta função: x<sup>2</sup> + 12x – 13 = 0"
   ]
  },
  {
   "cell_type": "code",
   "execution_count": null,
   "metadata": {},
   "outputs": [],
   "source": []
  },
  {
   "cell_type": "markdown",
   "metadata": {},
   "source": [
    "Qual operador aritmético você usaria para determinar se um número inteiro é par ou ímpar?"
   ]
  },
  {
   "cell_type": "code",
   "execution_count": null,
   "metadata": {},
   "outputs": [],
   "source": []
  },
  {
   "cell_type": "markdown",
   "metadata": {},
   "source": [
    "## Contêiners básicos\n",
    "\n",
    "Contêiners são objetos que podem ser usados para agrupar outros objetos. Os tipos básicos de contêiners incluem:\n",
    "\n",
    "- **`str`** (string: imutável; indexado por inteiros; cada item é armazenado na ordem que foi adicionado)\n",
    "- **`list`** (lista: mutável; indexado por inteiros; cada item é armazenado na ordem que foi adicionado)\n",
    "  - `[3, 5, 6, 3, 'dog', 'cat', False]`\n",
    "- **`tuple`** (tupla: imutável; indexado por inteiros; cada item é armazenado na ordem que foi adicionado)\n",
    "  - `(3, 5, 6, 3, 'dog', 'cat', False)`\n",
    "- **`set`** (conjunto: mutável; não indexado; os itens NÃO são armazenados na ordem que foi adicionado; pode apenas conter objetos imutáveis; não contém objetos duplicados)\n",
    "  - `{3, 5, 6, 3, 'dog', 'cat', False}`\n",
    "- **`dict`** (dicionário: mutável; os pares chave-valor são indexados por chaves imutáveis; os itens NÃO são armazenados na ordem que foram adicionados)\n",
    "  - `{'name': 'Jane', 'age': 23, 'fav_foods': ['pizza', 'fruit', 'fish']}`\n",
    "\n",
    "> Nota: objetos **mutáveis** são aqueles que podem ser modificados após a sua criação e os objetos **imutáveis** não. Mais detalhes pode ser encontrado neste [link](https://medium.com/datadriveninvestor/mutable-and-immutable-python-2093deeac8d9#:~:text=In%20Python%2C%20a%20string%20is,can%20assign%20the%20variable%20again.&text=It's%20not%20modifying%20the%20string,creating%20a%20new%20string%20object).\n",
    "\n",
    "Quando criar uma variável lista, tupla ou conjunto, utilize vírgulas (,) para separar os itens individuais. \n",
    "\n",
    "Quando criar um dicionário, utilize dois-pontos (:) para separar chaves dos valores e vírgulas (,) para separar os pares chave-valor.\n",
    "\n",
    "Strings, listas, e tuplas são todos do **tipo sequência** e podem utilizar os operadores `+`, `*`, `+=`, e `*=`."
   ]
  },
  {
   "cell_type": "code",
   "execution_count": null,
   "metadata": {},
   "outputs": [],
   "source": [
    "# Atribuindo alguns contêiners para diferentes variáveis\n",
    "list1 = [3, 5, 6, 3, 'dog', 'cat', False]\n",
    "tuple1 = (3, 5, 6, 3, 'dog', 'cat', False)\n",
    "set1 = {3, 5, 6, 3, 'dog', 'cat', False}\n",
    "dict1 = {'age': 23, 'name': 'Jane', 'fav_foods': ['pizza', 'fruit', 'fish']}"
   ]
  },
  {
   "cell_type": "code",
   "execution_count": null,
   "metadata": {},
   "outputs": [],
   "source": [
    "# Itens na lista são armazenados na ordem que foram adicionados.\n",
    "list1"
   ]
  },
  {
   "cell_type": "code",
   "execution_count": null,
   "metadata": {},
   "outputs": [],
   "source": [
    "# Itens na tupla são armazenados na ordem que foram adicionados.\n",
    "tuple1"
   ]
  },
  {
   "cell_type": "code",
   "execution_count": null,
   "metadata": {},
   "outputs": [],
   "source": [
    "# Itens no conjunto NÃO são armazenados na ordem que foram adicionados.\n",
    "# Também note que o valor 3 aparece apenas uma vez neste conjunto.\n",
    "set1"
   ]
  },
  {
   "cell_type": "code",
   "execution_count": null,
   "metadata": {},
   "outputs": [],
   "source": [
    "# Itens no dicionário NÃO são armazenados na ordem que foram adicionados.\n",
    "dict1"
   ]
  },
  {
   "cell_type": "code",
   "execution_count": null,
   "metadata": {},
   "outputs": [],
   "source": [
    "# Adicionar e re-atribuir\n",
    "list1 += [5, 'grapes']\n",
    "list1"
   ]
  },
  {
   "cell_type": "code",
   "execution_count": null,
   "metadata": {},
   "outputs": [],
   "source": [
    "# Adicionar e reatribuir\n",
    "tuple1 += (5, 'grapes')\n",
    "tuple1"
   ]
  },
  {
   "cell_type": "code",
   "execution_count": null,
   "metadata": {},
   "outputs": [],
   "source": [
    "# Multiplicar\n",
    "[1, 2, 3, 4] * 2"
   ]
  },
  {
   "cell_type": "code",
   "execution_count": null,
   "metadata": {},
   "outputs": [],
   "source": [
    "# Multiplicar\n",
    "(1, 2, 3, 4) * 3"
   ]
  },
  {
   "cell_type": "markdown",
   "metadata": {},
   "source": [
    "## Acessando os dados nos contêiners\n",
    "\n",
    "Para strings, listas, tuplas e dicionários, podemos usar a **notação subscrita** (colchetes) para acessar dados em um índice.\n",
    "\n",
    "- strings, listas, and tuplas são indexadas por inteiros, **sendo o 0** o primeiro item:\n",
    "  - Estes tipos de sequência também suportam acessar um intervalo de itens, conhecido como **slicing**;\n",
    "  - utilize a **indexação negativa** para começar pelo último item da sequência\n",
    "- dicionários são indexados por chaves.\n",
    "\n",
    "> Nota: conjuntos não são indexados, portanto nós não podemos usar a notação subscrita para acessar os seus elementos."
   ]
  },
  {
   "cell_type": "code",
   "execution_count": null,
   "metadata": {},
   "outputs": [],
   "source": [
    "# Acessar o primeiro caractere de uma string\n",
    "str1 = \"cat\"\n",
    "str1[0]"
   ]
  },
  {
   "cell_type": "code",
   "execution_count": null,
   "metadata": {},
   "outputs": [],
   "source": [
    "# Acessar o segundo elemento da sequência\n",
    "list1[1]"
   ]
  },
  {
   "cell_type": "code",
   "execution_count": null,
   "metadata": {},
   "outputs": [],
   "source": [
    "# Acessar o último elemento da sequência\n",
    "tuple1[-1]"
   ]
  },
  {
   "cell_type": "code",
   "execution_count": null,
   "metadata": {},
   "outputs": [],
   "source": [
    "# Acessar um intervalo de itens na sequência\n",
    "simple_string1[3:8]"
   ]
  },
  {
   "cell_type": "code",
   "execution_count": null,
   "metadata": {},
   "outputs": [],
   "source": [
    "# Acessar um intervalo de itens na sequência\n",
    "tuple1[:-3]"
   ]
  },
  {
   "cell_type": "code",
   "execution_count": null,
   "metadata": {},
   "outputs": [],
   "source": [
    "# Acessar um intervalo de itens na sequência\n",
    "list1[4:]"
   ]
  },
  {
   "cell_type": "code",
   "execution_count": null,
   "metadata": {},
   "outputs": [],
   "source": [
    "# Acessar itens em um dicionário\n",
    "dict1['name']"
   ]
  },
  {
   "cell_type": "code",
   "execution_count": null,
   "metadata": {
    "scrolled": true
   },
   "outputs": [],
   "source": [
    "# Acessar um elemento de uma sequência em um dicionário\n",
    "dict1['fav_foods'][2]"
   ]
  },
  {
   "cell_type": "markdown",
   "metadata": {},
   "source": [
    "## Alguns métodos associados a string\n",
    "\n",
    "Descreva o que cada método abaixo realiza a uma determinada string."
   ]
  },
  {
   "cell_type": "code",
   "execution_count": null,
   "metadata": {},
   "outputs": [],
   "source": [
    "teste = 'sou uma String'"
   ]
  },
  {
   "cell_type": "code",
   "execution_count": null,
   "metadata": {},
   "outputs": [],
   "source": [
    "teste.capitalize()"
   ]
  },
  {
   "cell_type": "code",
   "execution_count": null,
   "metadata": {},
   "outputs": [],
   "source": [
    "teste.lower()"
   ]
  },
  {
   "cell_type": "code",
   "execution_count": null,
   "metadata": {},
   "outputs": [],
   "source": [
    "teste.upper()"
   ]
  },
  {
   "cell_type": "code",
   "execution_count": null,
   "metadata": {},
   "outputs": [],
   "source": [
    "teste.swapcase()"
   ]
  },
  {
   "cell_type": "code",
   "execution_count": null,
   "metadata": {},
   "outputs": [],
   "source": [
    "# conta caracter\n",
    "print(teste.count(\"ou\"))\n",
    "print(teste.count(\"g\"))\n",
    "print(teste.count(\"l\"))"
   ]
  },
  {
   "cell_type": "code",
   "execution_count": null,
   "metadata": {},
   "outputs": [],
   "source": [
    "print(teste.find(\"ou\"))\n",
    "print(teste.find(\"g\"))\n",
    "print(teste.find(\"l\"))"
   ]
  },
  {
   "cell_type": "code",
   "execution_count": null,
   "metadata": {},
   "outputs": [],
   "source": [
    "print(teste.index(\"u\"))\n",
    "print(teste.index(\"g\"))\n",
    "print(teste.index(\"l\"))"
   ]
  },
  {
   "cell_type": "code",
   "execution_count": null,
   "metadata": {},
   "outputs": [],
   "source": [
    "print(teste.endswith(\"ing\"))\n",
    "print(teste.endswith(\"in\"))"
   ]
  },
  {
   "cell_type": "code",
   "execution_count": null,
   "metadata": {},
   "outputs": [],
   "source": [
    "c = \"Fitness\"\n",
    "print(c.isalnum())\n",
    "\n",
    "c = \"123\"\n",
    "print(c.isalnum())\n",
    "\n",
    "c = \"1.23\"\n",
    "print(c.isalnum())\n",
    "\n",
    "c = \"$*%!!!\"\n",
    "print(c.isalnum())\n",
    "\n",
    "c = \"0.34j\"\n",
    "print(c.isalnum())"
   ]
  },
  {
   "cell_type": "code",
   "execution_count": null,
   "metadata": {},
   "outputs": [],
   "source": [
    "c = \"Fitness\"\n",
    "print(c.isalpha())\n",
    "\n",
    "c = \"123\"\n",
    "print(c.isalpha())\n",
    "\n",
    "c = \"$*%!!!\"\n",
    "print(c.isalpha())"
   ]
  },
  {
   "cell_type": "code",
   "execution_count": null,
   "metadata": {},
   "outputs": [],
   "source": [
    "c = \"123\"\n",
    "print(c.isnumeric())\n",
    "\n",
    "c = \"1.23\"\n",
    "print(c.isnumeric())\n",
    "\n",
    "c = \"u123\"\n",
    "print(c.isnumeric())\n",
    "\n",
    "c = \"Fitness\"\n",
    "print(c.isnumeric())\n",
    "\n",
    "c = \"$*%!!!\"\n",
    "print(c.isnumeric())"
   ]
  },
  {
   "cell_type": "code",
   "execution_count": null,
   "metadata": {},
   "outputs": [],
   "source": [
    "c = \"123\"\n",
    "print(c.isdigit())\n",
    "\n",
    "c = u\"\\u00B2\"\n",
    "print(c.isdigit())\n",
    "\n",
    "c = \"1.23\"\n",
    "print(c.isdigit())\n",
    "\n",
    "c = \"u123\"\n",
    "print(c.isdigit())\n",
    "\n",
    "c = \"Fitness\"\n",
    "print(c.isdigit())\n",
    "\n",
    "c = \"$*%!!!\"\n",
    "print(c.isdigit())"
   ]
  },
  {
   "cell_type": "code",
   "execution_count": null,
   "metadata": {},
   "outputs": [],
   "source": [
    "a = \"-\"\n",
    "print(a.join(\"123\"))\n",
    "\n",
    "a = \".\"\n",
    "print(a.join(\"USA\"))\n",
    "\n",
    "a = \". \"\n",
    "print(a.join((\"Dr\", \"Who\")))"
   ]
  },
  {
   "cell_type": "code",
   "execution_count": null,
   "metadata": {},
   "outputs": [],
   "source": [
    "a = \"Tea bag. Tea cup. Tea leaves.\"\n",
    "\n",
    "print(a.replace(\"Tea\", \"Coffee\"))\n",
    "print(a.replace(\"Tea\", \"Coffee\", 2))"
   ]
  },
  {
   "cell_type": "code",
   "execution_count": null,
   "metadata": {},
   "outputs": [],
   "source": [
    "a = \"Homer Jay Simpson\"\n",
    "print(a.split())\n",
    "\n",
    "a = \"Homer-Jay-Simpson\"\n",
    "print(a.split(sep=\"-\",maxsplit=1))\n",
    "\n",
    "a = \"Homer,,Bart,\"\n",
    "print(a.split(\",\"))\n",
    "\n",
    "a = \"Homer,,Bart\"\n",
    "print(a.split(\",\", maxsplit=1))\n",
    "\n",
    "a = \"Homer<>Bart<>Marge\"\n",
    "print(a.split(\"<>\"))"
   ]
  },
  {
   "cell_type": "markdown",
   "metadata": {},
   "source": [
    "## Métodos e atributos associados a list"
   ]
  },
  {
   "cell_type": "code",
   "execution_count": null,
   "metadata": {},
   "outputs": [],
   "source": [
    "# lista\n",
    "planets = [\"Earth\", \"Mars\", \"Saturn\", \"Jupiter\"]"
   ]
  },
  {
   "cell_type": "code",
   "execution_count": null,
   "metadata": {},
   "outputs": [],
   "source": [
    "# lista mista\n",
    "mixedList = [\"Hey\", 123, [\"Dog\", \"Cat\", \"Bird\"]]"
   ]
  },
  {
   "cell_type": "code",
   "execution_count": null,
   "metadata": {},
   "outputs": [],
   "source": [
    "# tamanho da lista\n",
    "len(planets)"
   ]
  },
  {
   "cell_type": "code",
   "execution_count": null,
   "metadata": {},
   "outputs": [],
   "source": [
    "# alterando o segundo elemento da lista\n",
    "planets = [\"Earth\", \"Mars\", \"Saturn\", \"Jupiter\"]\n",
    "planets[1] = \"Mercury\"\n",
    "planets"
   ]
  },
  {
   "cell_type": "code",
   "execution_count": null,
   "metadata": {},
   "outputs": [],
   "source": [
    "# adicionando um elemento no final da lista\n",
    "planets = [\"Earth\", \"Mars\", \"Saturn\", \"Jupiter\"]\n",
    "planets.append(\"Mercury\")\n",
    "planets"
   ]
  },
  {
   "cell_type": "code",
   "execution_count": null,
   "metadata": {},
   "outputs": [],
   "source": [
    "# retirando e salvando em uma variável o último elemento da lista\n",
    "planets = [\"Earth\", \"Mars\", \"Saturn\", \"Jupiter\"]\n",
    "planet = planets.pop()\n",
    "print(planet)\n",
    "print(planets)"
   ]
  },
  {
   "cell_type": "code",
   "execution_count": null,
   "metadata": {},
   "outputs": [],
   "source": [
    "# retirando e salvando em uma variável o primeiro elemento da lista\n",
    "planets = [\"Earth\", \"Mars\", \"Saturn\", \"Jupiter\"]\n",
    "planet = planets.pop(0)\n",
    "print(planet)\n",
    "print(planets)"
   ]
  },
  {
   "cell_type": "code",
   "execution_count": null,
   "metadata": {},
   "outputs": [],
   "source": [
    "# Ordenando os elementos da lista em ordem alfabética\n",
    "planets = [\"Earth\", \"Mars\", \"Saturn\", \"Jupiter\"]\n",
    "planets.sort()\n",
    "\n",
    "print(planets)"
   ]
  },
  {
   "cell_type": "code",
   "execution_count": null,
   "metadata": {},
   "outputs": [],
   "source": [
    "# Invertendo a ordem de uma lista\n",
    "planets = [\"Earth\", \"Mars\", \"Saturn\", \"Jupiter\"]\n",
    "planets.reverse()\n",
    "\n",
    "print(planets)"
   ]
  },
  {
   "cell_type": "code",
   "execution_count": null,
   "metadata": {},
   "outputs": [],
   "source": [
    "# Contando o número de elementos \"Earth\" na lista\n",
    "planets = [\"Earth\", \"Mars\", \"Saturn\", \"Jupiter\",\"Earth\"]\n",
    "planets.count(\"Earth\")"
   ]
  },
  {
   "cell_type": "code",
   "execution_count": null,
   "metadata": {},
   "outputs": [],
   "source": [
    "# removendo o terceiro elemento da lista\n",
    "planets = [\"Earth\", \"Mars\", \"Saturn\", \"Jupiter\"]\n",
    "del planets[2]\n",
    "planets"
   ]
  },
  {
   "cell_type": "code",
   "execution_count": null,
   "metadata": {},
   "outputs": [],
   "source": [
    "# deletar variáveis (funciona para qualquer variável)\n",
    "del planets\n",
    "planets"
   ]
  },
  {
   "cell_type": "markdown",
   "metadata": {},
   "source": [
    "## Métodos e atributos associados a tuples"
   ]
  },
  {
   "cell_type": "code",
   "execution_count": null,
   "metadata": {},
   "outputs": [],
   "source": [
    "# criando tuplas \n",
    "weekdays = (\"Monday\", \"Tuesday\", \"Wednesday\", \"Thursday\", \"Friday\")\n",
    "weekdays"
   ]
  },
  {
   "cell_type": "code",
   "execution_count": null,
   "metadata": {},
   "outputs": [],
   "source": [
    "# criando tuplas \n",
    "weekdays = \"Monday\", \"Tuesday\", \"Wednesday\", \"Thursday\", \"Friday\"\n",
    "weekdays"
   ]
  },
  {
   "cell_type": "code",
   "execution_count": null,
   "metadata": {},
   "outputs": [],
   "source": [
    "# tupla com apenas um elemento\n",
    "a = (\"dog\")\n",
    "b = (\"dog\",)\n",
    "print(type(a))\n",
    "print(type(b))"
   ]
  },
  {
   "cell_type": "code",
   "execution_count": null,
   "metadata": {},
   "outputs": [],
   "source": [
    "# tupla contendo uma lista\n",
    "t = (\"Banana\", [1, 2, 3]) \n",
    "t"
   ]
  },
  {
   "cell_type": "code",
   "execution_count": null,
   "metadata": {},
   "outputs": [],
   "source": [
    "# acessando o primeiro elemento dentro da tupla\n",
    "t[0]"
   ]
  },
  {
   "cell_type": "code",
   "execution_count": null,
   "metadata": {},
   "outputs": [],
   "source": [
    "# acessando um elemento de uma lista que está dentro de uma tupla\n",
    "t[1][2]"
   ]
  },
  {
   "cell_type": "code",
   "execution_count": null,
   "metadata": {},
   "outputs": [],
   "source": [
    "# não consigo alterar o elemento em uma tupla, mas consigo alterar o elemento numa lista dentro da tupla.\n",
    "t[1][2] = 4\n",
    "t"
   ]
  },
  {
   "cell_type": "code",
   "execution_count": null,
   "metadata": {},
   "outputs": [],
   "source": [
    "# concatenar tuplas\n",
    "weekdays = (\"Monday\", \"Tuesday\", \"Wednesday\", \"Thursday\", \"Friday\")\n",
    "weekenddays = (\"Saturday\", \"Sunday\")\n",
    "\n",
    "alldays = weekdays + weekenddays\n",
    "\n",
    "print(weekdays)\n",
    "print(weekenddays)\n",
    "print(alldays)"
   ]
  },
  {
   "cell_type": "markdown",
   "metadata": {},
   "source": [
    "## Métodos e atributos associados a dictionary"
   ]
  },
  {
   "cell_type": "code",
   "execution_count": null,
   "metadata": {},
   "outputs": [],
   "source": [
    "# Criando um dicionário\n",
    "planet_size = {\"Earth\": 40075, \"Saturn\": 378675, \"Jupiter\": 439264}\n",
    "\n",
    "print(planet_size)\n",
    "\n",
    "print(type(planet_size))"
   ]
  },
  {
   "cell_type": "code",
   "execution_count": null,
   "metadata": {},
   "outputs": [],
   "source": [
    "# Dicionários contendo lista, tupla e dicionário\n",
    "food = {\"Fruit\": [\"Apple\", \"Orange\", \"Banana\"], \"Vegetables\": (\"Eat\", \"Your\", \"Greens\"), \"Junk\": {\"Hamburguer\": 1, \"Soda\": 2}}\n",
    "\n",
    "print(food)"
   ]
  },
  {
   "cell_type": "code",
   "execution_count": null,
   "metadata": {},
   "outputs": [],
   "source": [
    "# acesse o valor que está em \"Hamburguer\" em \"Junk\".\n",
    "food[\"Junk\"][\"Hamburguer\"]\n",
    "food.get(\"Junk\").get(\"Hamburguer\")"
   ]
  },
  {
   "cell_type": "code",
   "execution_count": null,
   "metadata": {},
   "outputs": [],
   "source": [
    "# acesso a chave \"Dish\" em \"food\"\n",
    "print(food.get(\"Dish\"))\n"
   ]
  },
  {
   "cell_type": "code",
   "execution_count": null,
   "metadata": {},
   "outputs": [],
   "source": [
    "# alterar itens do dicionário\n",
    "# incremente 1 na chave \"Soda\" que está em \"Junk\"\n",
    "food[\"Junk\"][\"Soda\"] += 1\n",
    "food"
   ]
  },
  {
   "cell_type": "code",
   "execution_count": null,
   "metadata": {},
   "outputs": [],
   "source": [
    "# Adicionar nova chave e valor\n",
    "# Crie uma chave chamado \"Exotic\" no dicionário \"food\" que receberá uma lista de itens \n",
    "# que você considera como comida exótica\n"
   ]
  },
  {
   "cell_type": "code",
   "execution_count": null,
   "metadata": {},
   "outputs": [],
   "source": [
    "# Deletar item do dicionário\n",
    "del food[\"Exotic\"]\n",
    "food"
   ]
  },
  {
   "cell_type": "code",
   "execution_count": null,
   "metadata": {},
   "outputs": [],
   "source": [
    "# recuperar as chaves de um dicionário\n",
    "food.keys()"
   ]
  },
  {
   "cell_type": "code",
   "execution_count": null,
   "metadata": {},
   "outputs": [],
   "source": [
    "# recuperar valores de um dicionário\n",
    "food.values()"
   ]
  },
  {
   "cell_type": "markdown",
   "metadata": {},
   "source": [
    "## If statements\n",
    "\n",
    "Um bloco de código que é executado caso a condição estabelecida seja verdadeira.\n",
    "\n",
    "### Logical operators\n",
    "\n",
    "```\n",
    "==  # equal\n",
    "!=  # not equal\n",
    "<   # greater than\n",
    "<=  # greater than or equal\n",
    ">   # minor than\n",
    ">=  # minor than or equal\n",
    "and # and rule\n",
    "or  # or rule\n",
    "```"
   ]
  },
  {
   "cell_type": "code",
   "execution_count": null,
   "metadata": {},
   "outputs": [],
   "source": [
    "age = 17\n",
    "if ((age >= 18) and (age <= 70)):\n",
    "    # (18 <= age <= 70) also works\n",
    "    # execute if condition1 is true\n",
    "    print('you must vote')\n",
    "elif (age >= 16):\n",
    "    # execute if condition1 is false\n",
    "    # and condition2 is true\n",
    "    print('you may vote')\n",
    "else:\n",
    "    # execute if condition1 and\n",
    "    # condition 2 is false\n",
    "    print('you can\\'t vote yet')"
   ]
  },
  {
   "cell_type": "markdown",
   "metadata": {},
   "source": [
    "### Indentação\n",
    "\n",
    "Note que os blocos do código dentro do if statement estão indentados e que não existe nenhum caracter delimitando ele. Em python, esses blocos são determinados pela indentação. Então a indentação no Python é obrigatório. Isso vale também para a function e loops, que será visto a seguir."
   ]
  },
  {
   "cell_type": "markdown",
   "metadata": {},
   "source": [
    "## Functions\n",
    "\n",
    "Um bloco de código que é executado quando chamado."
   ]
  },
  {
   "cell_type": "code",
   "execution_count": null,
   "metadata": {
    "scrolled": true
   },
   "outputs": [],
   "source": [
    "# definir a função shoudIVote\n",
    "def shouldIVote(input):\n",
    "    age = input\n",
    "    if ((age >= 18) and (age <= 70)):\n",
    "        result = 'yes, you must vote'\n",
    "    elif (age >= 16):\n",
    "        result = 'yes, you may vote'\n",
    "    else:\n",
    "        result = 'no, you can\\'t vote yet'\n",
    "    return result\n",
    "\n",
    "# input da função\n",
    "age = 25\n",
    "\n",
    "# chamada da função:\n",
    "print(shouldIVote(age))"
   ]
  },
  {
   "cell_type": "markdown",
   "metadata": {},
   "source": [
    "### Exercício\n",
    "\n",
    "Escreva uma função que calcule a idade de um cachorro de pequeno porte traduzido em idade humana. O primeiro ano do cachorro corresponde a 15 anos humanos; O segundo ano corresponde a 9 anos humanos. Nos anos seguintes, cada ano do cachorro corresponde a 4 anos humano. Fonte: https://pets.webmd.com/dogs/how-to-calculate-your-dogs-age"
   ]
  },
  {
   "cell_type": "code",
   "execution_count": null,
   "metadata": {},
   "outputs": [],
   "source": []
  },
  {
   "cell_type": "markdown",
   "metadata": {},
   "source": [
    "## For loops\n",
    "\n",
    "Um bloco de código que executa até o término de uma lista."
   ]
  },
  {
   "cell_type": "code",
   "execution_count": null,
   "metadata": {},
   "outputs": [],
   "source": [
    "# for loops\n",
    "fruits = ['apple', 'banana', 'mango']\n",
    "for y in fruits:\n",
    "    print(y) # prints all elements "
   ]
  },
  {
   "cell_type": "code",
   "execution_count": null,
   "metadata": {},
   "outputs": [],
   "source": [
    "# for loops with range()\n",
    "for i in range(0,10):\n",
    "    print(i, ' ', end='') # prints from 1 to 9"
   ]
  },
  {
   "cell_type": "code",
   "execution_count": null,
   "metadata": {},
   "outputs": [],
   "source": [
    "# continue\n",
    "for i in range(0,10):\n",
    "    if(i % 2 == 1):\n",
    "        continue\n",
    "    print(i, ' ', end='') # prints from 1 to 9"
   ]
  },
  {
   "cell_type": "code",
   "execution_count": null,
   "metadata": {},
   "outputs": [],
   "source": [
    "# break\n",
    "for i in range(0,10):\n",
    "    if(i == 5):\n",
    "        break\n",
    "    print(i, ' ', end='') # prints from 1 to 9"
   ]
  },
  {
   "cell_type": "markdown",
   "metadata": {},
   "source": [
    "### Exercício\n",
    "\n",
    "A variável \"idades\" é uma lista que contém idades de n pessoas de uma população. Verifique quantas pessoas dentro desta amostra devem votar."
   ]
  },
  {
   "cell_type": "code",
   "execution_count": null,
   "metadata": {},
   "outputs": [],
   "source": [
    "idades = [75,41,91,10,80,38,49,71,5,51,37,72,49,61,16,91,88,1,79,13,40,57,6,70,57,18,17,42,23,12,42,97,59,41,90,18,80,51,51,69,79,16,20,57,29,96,25,28,58,51,69,97,55,50,27,8,69,76,60,38,48,73,45,50,77,23,65,53,41,14,68,93,54,31,25,54,75,70,11,6,78,15,47,96,94,70,40,48,5,55,70,89,70,59,25,18,20,56,88,41]"
   ]
  },
  {
   "cell_type": "code",
   "execution_count": null,
   "metadata": {},
   "outputs": [],
   "source": [
    "# Escreva o seu código aqui\n",
    "\n"
   ]
  },
  {
   "cell_type": "markdown",
   "metadata": {},
   "source": [
    "## While loop\n",
    "\n",
    "Um bloco de código que é executado enquanto a condição estabelecida seja verdadeira."
   ]
  },
  {
   "cell_type": "code",
   "execution_count": null,
   "metadata": {},
   "outputs": [],
   "source": [
    "# while loop\n",
    "import random\n",
    "i = 0\n",
    "\n",
    "# while loop\n",
    "while (i < 100):\n",
    "    randNum = random.randrange(0, 100) # random number(0-100)\n",
    "    print(randNum, ' ', end='')\n",
    "    i += 1\n",
    "    "
   ]
  },
  {
   "cell_type": "code",
   "execution_count": null,
   "metadata": {},
   "outputs": [],
   "source": [
    "# while loop 2\n",
    "i = 0\n",
    "while (i < 100):\n",
    "    randNum = random.randrange(0, 100) # random number(0-99)\n",
    "    print(randNum, ' ', end='')\n",
    "    if (randNum % 10 == 0): # exit if multiple of 10\n",
    "        break\n",
    "    i += 1"
   ]
  },
  {
   "cell_type": "markdown",
   "metadata": {},
   "source": [
    "### Exercício\n",
    "\n",
    "Gere 100 números randômicos de 0 a 10. Verifique quantos são maiores que 8."
   ]
  },
  {
   "cell_type": "code",
   "execution_count": null,
   "metadata": {},
   "outputs": [],
   "source": [
    "\n",
    "\n"
   ]
  },
  {
   "cell_type": "markdown",
   "metadata": {},
   "source": [
    "Escreva um programa que gera uma sequência de Fibonacci de 0 a 50. (resultado esperado: 0,1,1,2,3,5,8,13,21,34)"
   ]
  },
  {
   "cell_type": "code",
   "execution_count": null,
   "metadata": {},
   "outputs": [],
   "source": [
    "\n",
    "\n"
   ]
  },
  {
   "cell_type": "markdown",
   "metadata": {},
   "source": [
    "## Open file\n",
    "\n",
    "Para abrir um arquivo, utilize a função open()."
   ]
  },
  {
   "cell_type": "code",
   "execution_count": null,
   "metadata": {
    "scrolled": true
   },
   "outputs": [],
   "source": [
    "# abrir arquivo\n",
    "f = open(\"teste.csv\", \"r\")"
   ]
  },
  {
   "cell_type": "markdown",
   "metadata": {},
   "source": [
    "### Read file\n",
    "\n",
    "Existem duas formas de ler o arquivo que foi aberto:\n",
    "\n",
    "read() - lê o arquivo inteiro.\n",
    "\n",
    "readline() - lê o arquivo linha por linha."
   ]
  },
  {
   "cell_type": "markdown",
   "metadata": {},
   "source": [
    "#### read()"
   ]
  },
  {
   "cell_type": "code",
   "execution_count": null,
   "metadata": {},
   "outputs": [],
   "source": [
    "# atribuir a data todo o conteúdo do arquivo\n",
    "data = f.read()\n",
    "\n",
    "# imprime todo conteúdo do arquivo\n",
    "print(data)"
   ]
  },
  {
   "cell_type": "code",
   "execution_count": null,
   "metadata": {},
   "outputs": [],
   "source": [
    "# Separa o conteúdo em data baseado no '\\n' (quebra de linha)\n",
    "rows = data.split('\\n')\n",
    "\n",
    "# imprime as 5 primeiras linhas\n",
    "for row in range(0,5):\n",
    "    print(rows[row])"
   ]
  },
  {
   "cell_type": "markdown",
   "metadata": {},
   "source": [
    "#### readline()"
   ]
  },
  {
   "cell_type": "code",
   "execution_count": null,
   "metadata": {},
   "outputs": [],
   "source": [
    "# acessa o arquivo\n",
    "f = open(\"teste.csv\", \"r\")\n",
    "\n",
    "# pega a primeira linha do arquivo e atribui para a variável line\n",
    "line = f.readline()\n",
    "\n",
    "# imprime a primeira linha\n",
    "print(line)"
   ]
  },
  {
   "cell_type": "code",
   "execution_count": null,
   "metadata": {},
   "outputs": [],
   "source": [
    "# pega a próxima linha do arquivo e atribui para a variável line\n",
    "line = f.readline()\n",
    "\n",
    "# imprime a linha e assim sucessivamente.\n",
    "print(line)"
   ]
  },
  {
   "cell_type": "code",
   "execution_count": null,
   "metadata": {
    "scrolled": true
   },
   "outputs": [],
   "source": [
    "# acessa o arquivo\n",
    "f = open(\"teste.csv\", \"r\")\n",
    "\n",
    "\n",
    "# imprime as primeiras cinco linhas\n",
    "for row in range(0,5):\n",
    "    line = f.readline()\n",
    "    print(line)"
   ]
  },
  {
   "cell_type": "markdown",
   "metadata": {},
   "source": [
    "### Exercício\n",
    "\n",
    "Abra o arquivo wdbc.data e verifique:\n",
    "\n",
    "a) Quantas linhas o arquivo possui? Utilize a função readline()."
   ]
  },
  {
   "cell_type": "code",
   "execution_count": null,
   "metadata": {},
   "outputs": [],
   "source": [
    "\n",
    "\n"
   ]
  },
  {
   "cell_type": "markdown",
   "metadata": {},
   "source": [
    "b) Quantas colunas o arquivo possui? Considere que as colunas estejam delimitadas por \",\"."
   ]
  },
  {
   "cell_type": "code",
   "execution_count": null,
   "metadata": {},
   "outputs": [],
   "source": [
    "\n",
    "\n"
   ]
  },
  {
   "cell_type": "markdown",
   "metadata": {},
   "source": [
    "c) Quantas categorias distintas estão presentes na segunda coluna?"
   ]
  },
  {
   "cell_type": "code",
   "execution_count": null,
   "metadata": {},
   "outputs": [],
   "source": [
    "\n",
    "\n"
   ]
  },
  {
   "cell_type": "markdown",
   "metadata": {},
   "source": [
    "d) Qual o número de observações encontrados para cada categoria da segunda coluna?"
   ]
  },
  {
   "cell_type": "code",
   "execution_count": null,
   "metadata": {},
   "outputs": [],
   "source": [
    "\n",
    "\n",
    "\n"
   ]
  },
  {
   "cell_type": "markdown",
   "metadata": {},
   "source": [
    "## Referências\n",
    "\n",
    "* Introdução a linguagem de programação: https://www.learncpp.com/cpp-tutorial/introduction-to-programming-languages/\n",
    "* Lista de cursos para aprender Python: https://wiki.python.org/moin/BeginnersGuide/Programmers\n",
    "* The Best Way to Learn Python – Python Programming Tutorial for Beginners: https://www.freecodecamp.org/news/the-best-way-to-learn-python-python-programming-tutorial-for-beginners/\n",
    "* Documentação do Python 3: https://docs.python.org/3/"
   ]
  }
 ],
 "metadata": {
  "kernelspec": {
   "display_name": "Python 3",
   "language": "python",
   "name": "python3"
  },
  "language_info": {
   "codemirror_mode": {
    "name": "ipython",
    "version": 3
   },
   "file_extension": ".py",
   "mimetype": "text/x-python",
   "name": "python",
   "nbconvert_exporter": "python",
   "pygments_lexer": "ipython3",
   "version": "3.8.5"
  }
 },
 "nbformat": 4,
 "nbformat_minor": 2
}
