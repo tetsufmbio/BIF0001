{
 "cells": [
  {
   "cell_type": "markdown",
   "metadata": {},
   "source": [
    "# RegEx em Python\n",
    "\n",
    "Este notebook te ajudará a adquirir noções de expressão regular na linguagem Python."
   ]
  },
  {
   "cell_type": "markdown",
   "metadata": {},
   "source": [
    "## O que é expressão regular?\n",
    "\n",
    "Expressão regular (RegEx) é uma sequência de caracteres que define um padrão de busca. Por exemplo: \n",
    "\n",
    "    ^a...s$\n",
    "\n",
    "O código acima define um padrão RegEx. Este padrão em específico seria: qualquer string com 5 letras começando com a e terminando com s.\n",
    "\n",
    "O padrão RegEx pode ser utilizado para verificar existência deste padrão em uma string. \n",
    "\n",
    "Muitos dos programas que são escritos na Bioinformática podem ser descritos como busca por padrões em uma string. Dentre alguns exemplos destes programas temos aqueles que procuram:\n",
    "\n",
    "- determinar o domínio proteico;\n",
    "- encontrar sítios de ligação de um fator de transcrição;\n",
    "- determinar sítios de clivagem de uma enzima de resrição;\n",
    "- determinar sítios de ligação de primers degederados;\n",
    "- etc.\n"
   ]
  },
  {
   "cell_type": "markdown",
   "metadata": {},
   "source": [
    "O python possui um módulo chamado re, que trabalha com RegEx. Vamos carregar esta biblioteca:"
   ]
  },
  {
   "cell_type": "code",
   "execution_count": null,
   "metadata": {},
   "outputs": [],
   "source": [
    "import re"
   ]
  },
  {
   "cell_type": "markdown",
   "metadata": {},
   "source": [
    "Segue um exemplo do uso desta biblioteca:"
   ]
  },
  {
   "cell_type": "code",
   "execution_count": null,
   "metadata": {},
   "outputs": [],
   "source": [
    "pattern = '^a...s$'    # padrão regex\n",
    "test_string = 'abyss'  # string a ser testado se possui o padrão\n",
    "result = re.match(pattern, test_string) # função do módulo re que verifica a existência desse padrão na string\n",
    "\n",
    "if result:\n",
    "  print(\"Search successful.\")\n",
    "else:\n",
    "  print(\"Search unsuccessful.\")\t"
   ]
  },
  {
   "cell_type": "markdown",
   "metadata": {},
   "source": [
    "Neste exemplo foi utilizado a função re.match() para procurar o padrão que está em 'pattern' dentro da string em 'test_string'. Este método em específico retorna parte da string que possui o padrão se esse padrão existir. Se não, ele retorna None."
   ]
  },
  {
   "cell_type": "markdown",
   "metadata": {},
   "source": [
    "## Especificando um padrão utilizando o RegEx\n",
    "\n",
    "Para especificar um padrão, além dos caracteres normais, utilizamos metacaracteres.\n",
    "\n",
    "### Metacaracteres\n",
    "\n",
    "São caracteres que são interpretadas de forma especial pelo RegEx. Segue uma tabela com esses metacaracteres:\n",
    "\n",
    "\n",
    "|Character   | Description  | Example  |\n",
    "|:---:|:---:|:---:|\t\t\t\n",
    "|[]\t|A set of characters|\t\"[a-m]\"\t\n",
    "|\\\t|Signals a special sequence (can also be used to escape special characters)\t|\"\\d\"\t|\n",
    "|.\t|Any character (except newline character)\t|\"he..o\"\t|\n",
    "|^\t|Starts with\t|\"^hello\"\t|\n",
    "|\\$\t|Ends with\t|\"world$\"|\t\n",
    "|*\t|Zero or more occurrences\t|\"aix*\"\t|\n",
    "|+\t|One or more occurrences\t|\"aix+\"\t|\n",
    "|{}\t|Exactly the specified number of occurrences\t|\"al{2}\"\t|\n",
    "|\\|\t|Either or\t|\"falls\\|stays\"\t|\n",
    "|()\t|Capture and group| |\n"
   ]
  },
  {
   "cell_type": "markdown",
   "metadata": {},
   "source": [
    "### Sequências especiais\n",
    "\n",
    "Sequências especiais seria uma barra invertida (\\\\) seguido por um dos caracteres na lista abaixo. Eles possuem também um significado especial.\n",
    "\n",
    "|Character|\tDescription|\tExample|\n",
    "|:---:|:---:|:---:|\n",
    "|\\A|\tReturns a match if the specified characters are at the beginning of the string\t|\"\\AThe\"|\n",
    "|\\b|\tReturns a match where the specified characters are at the beginning or at the end of a word (the \"r\" in the beginning is making sure that the string is being treated as a \"raw string\")\t|r\"\\bain\" r\"ain\\b\"\t|\n",
    "|\\B|\tReturns a match where the specified characters are present, but NOT at the beginning (or at the end) of a word (the \"r\" in the beginning is making sure that the string is being treated as a \"raw string\")\t|r\"\\Bain\" r\"ain\\B\"\t|\n",
    "|\\d|\tReturns a match where the string contains digits (numbers from 0-9)\t|\"\\d\"\t|\n",
    "|\\D|\tReturns a match where the string DOES NOT contain digits\t|\"\\D\"\t|\n",
    "|\\s|\tReturns a match where the string contains a white space character\t|\"\\s\"\t|\n",
    "|\\S|\tReturns a match where the string DOES NOT contain a white space character\t|\"\\S\"\t|\n",
    "|\\w|\tReturns a match where the string contains any word characters (characters from a to Z, digits from 0-9, and the underscore _ character)\t|\"\\w\"\t|\n",
    "|\\W|\tReturns a match where the string DOES NOT contain any word characters\t|\"\\W\"\t|\n",
    "|\\Z|\tReturns a match if the specified characters are at the end of the string |\"Spain\\Z\"|"
   ]
  },
  {
   "cell_type": "markdown",
   "metadata": {},
   "source": [
    "### Conjunto\n",
    "\n",
    "Um conjunto seria um conjunto de caracteres entre colchetes. Eles possuem significados especiais no RegEx. Veja abaixo:\n",
    "\n",
    "|Character|\tDescription|\n",
    "|:---:|:---:|\n",
    "|[arn]\t|Returns a match where one of the specified characters (a, r, or n) are present\t|\n",
    "|[a-n]\t|Returns a match for any lower case character, alphabetically between a and n\t|\n",
    "|[^arn]\t|Returns a match for any character EXCEPT a, r, and n\t|\n",
    "|[0123]\t|Returns a match where any of the specified digits (0, 1, 2, or 3) are present\t|\n",
    "|[0-9]\t|Returns a match for any digit between 0 and 9\t|\n",
    "|[0-5][0-9]\t|Returns a match for any two-digit numbers from 00 and 59\t|\n",
    "|[a-zA-Z]\t|Returns a match for any character alphabetically between a and z, lower case OR upper case\t|\n",
    "|[+]\t|In sets, +, \\*, ., \\|, (), $,{} has no special meaning, so [+] means: return a match for any + character in the string|"
   ]
  },
  {
   "cell_type": "markdown",
   "metadata": {},
   "source": [
    "## Funções do módulo re\n",
    "\n",
    "### findall()\n",
    "\n",
    "Esta função retorna uma lista contendo todas as ocorrências de um padrão em uma string.\n",
    "\n",
    "    re.findall(pattern, string)\n",
    "\n",
    "Exemplo:"
   ]
  },
  {
   "cell_type": "code",
   "execution_count": null,
   "metadata": {},
   "outputs": [],
   "source": [
    "txt = \"The rain in Spain\"\n",
    "x = re.findall(\"ai\", txt)\n",
    "print(x)"
   ]
  },
  {
   "cell_type": "markdown",
   "metadata": {},
   "source": [
    "A lista contém as ocorrências na ordem em que eles foram encontrados. Caso o padrão não exista na string, é retornado uma lista vazia."
   ]
  },
  {
   "cell_type": "markdown",
   "metadata": {},
   "source": [
    "### search()\n",
    "\n",
    "Esta função procura pelo padrão na string e retorna um objeto Match. Caso haja mais de uma ocorrência deste padrão, apenas a primeira ocorrência será retornada. Caso não haja ocorrência desse padrão, o valor `None` é retornado.\n",
    "\n",
    "    re.search(pattern, string)\n",
    "\n",
    "Exemplo:"
   ]
  },
  {
   "cell_type": "code",
   "execution_count": null,
   "metadata": {},
   "outputs": [],
   "source": [
    "txt = \"The rain in Spain\"\n",
    "x = re.search(\"\\s\", txt)\n",
    "\n",
    "print(\"The first white-space character is located in position:\", x.start())"
   ]
  },
  {
   "cell_type": "markdown",
   "metadata": {},
   "source": [
    "O objeto Match possui propriedades e métodos que contêm informações sobre a busca e o resultado da busca:\n",
    "- `.span()` retorna uma tupla contendo as posições de início e de fim da ocorrência;\n",
    "- `.start()` retorna a posição de início da ocorrência;\n",
    "- `.end()` retorna a posição de fim da ocorrência;\n",
    "- `.string` retorna a string que foi passado para a função;\n",
    "- `.group()` retorna a parte da string que houve um match."
   ]
  },
  {
   "cell_type": "markdown",
   "metadata": {},
   "source": [
    "### finditer()\n",
    "\n",
    "Esta função retorna um iterador contendo objetos match de todos as ocorrências não sobrepostas de um padrão em uma string.\n",
    "\n",
    "    re.finditer(pattern, string)\n",
    "\n",
    "Exemplo:"
   ]
  },
  {
   "cell_type": "code",
   "execution_count": null,
   "metadata": {},
   "outputs": [],
   "source": [
    "txt = \"The rain in Spain\"\n",
    "x = re.finditer(\"ai\", txt)\n",
    "for m in x:\n",
    "    print(m.start())"
   ]
  },
  {
   "cell_type": "markdown",
   "metadata": {},
   "source": [
    "### split()\n",
    "\n",
    "Esta função retorna uma lista onde a string foi dividia tendo a ocorrência do padrão como um delimitador.\n",
    "\n",
    "    re.split(pattern, text, <maxsplit>)\n",
    "\n",
    "Exemplo:"
   ]
  },
  {
   "cell_type": "code",
   "execution_count": null,
   "metadata": {},
   "outputs": [],
   "source": [
    "txt = \"The rain in Spain\"\n",
    "x = re.split(\"\\s\", txt)\n",
    "print(x)"
   ]
  },
  {
   "cell_type": "markdown",
   "metadata": {},
   "source": [
    "Exemplo 2:"
   ]
  },
  {
   "cell_type": "code",
   "execution_count": null,
   "metadata": {},
   "outputs": [],
   "source": [
    "txt = \"The rain in Spain\"\n",
    "x = re.split(\"\\s\", txt, 1)\n",
    "print(x)"
   ]
  },
  {
   "cell_type": "markdown",
   "metadata": {},
   "source": [
    "### sub()\n",
    "\n",
    "Esta função substitui a ocorrência em uma strig de sua escolha. É possível controlar o número de substituições a ser realizada utilizando o parâmetro count.\n",
    "\n",
    "    re.sub(pattern, replace, text, <count>)\n",
    "\n",
    "Exemplo:"
   ]
  },
  {
   "cell_type": "code",
   "execution_count": null,
   "metadata": {},
   "outputs": [],
   "source": [
    "# substitui espaço por 9\n",
    "txt = \"The rain in Spain\"\n",
    "x = re.sub(\"\\s\", \"9\", txt)\n",
    "print(x)"
   ]
  },
  {
   "cell_type": "markdown",
   "metadata": {},
   "source": [
    "Exemplo 2:"
   ]
  },
  {
   "cell_type": "code",
   "execution_count": null,
   "metadata": {},
   "outputs": [],
   "source": [
    "# substitui espaço por 9 nas duas primeiras ocorrências.\n",
    "txt = \"The rain in Spain\"\n",
    "x = re.sub(\"\\s\", \"9\", txt, 2)\n",
    "print(x)"
   ]
  },
  {
   "cell_type": "markdown",
   "metadata": {},
   "source": [
    "### subn()\n",
    "\n",
    "Esta função é semelhante à função `sub()`, exceto pelo fato dele retornar uma tupla com 2 itens contendo a nova string e o número de substituições realizaos.\n",
    "\n",
    "    re.subn(pattern, replace, text, <count>)\n",
    "\n",
    "Exemplo:"
   ]
  },
  {
   "cell_type": "code",
   "execution_count": null,
   "metadata": {},
   "outputs": [],
   "source": [
    "# string multilinha\n",
    "string = 'abc 12\\\n",
    "de 23 \\n f45 6'\n",
    "\n",
    "# busca por todos os espaços na string\n",
    "pattern = '\\s+'\n",
    "\n",
    "# string vazio\n",
    "replace = ''\n",
    "\n",
    "new_string = re.subn(pattern, replace, string) \n",
    "print(new_string)\n"
   ]
  },
  {
   "cell_type": "markdown",
   "metadata": {},
   "source": [
    "## Utilizando o prefixo r antes do RegEx\n",
    "\n",
    "Quando `r` ou `R` é utilizado antes de uma expressão regular, isto significa string crua. Por exemplo, `'\\n'` é considerado como quebra de linha, enquanto que `r'\\n'` significa dois caracteres: barra invertida `\\` seguida de `n`.\n",
    "\n",
    "A barra invertida serve como escape para vários caracteres inclusive os metacaracteres. No entanto, utilizando o prefixo `r`, o motor do RegEx tratará a `\\` como um caracter normal."
   ]
  },
  {
   "cell_type": "code",
   "execution_count": null,
   "metadata": {},
   "outputs": [],
   "source": [
    "string = '\\n and \\r are escape sequences.'\n",
    "\n",
    "result = re.findall(r'[\\n\\r]', string) \n",
    "print(result)"
   ]
  }
 ],
 "metadata": {
  "kernelspec": {
   "display_name": "Python 3",
   "language": "python",
   "name": "python3"
  },
  "language_info": {
   "codemirror_mode": {
    "name": "ipython",
    "version": 3
   },
   "file_extension": ".py",
   "mimetype": "text/x-python",
   "name": "python",
   "nbconvert_exporter": "python",
   "pygments_lexer": "ipython3",
   "version": "3.7.4"
  }
 },
 "nbformat": 4,
 "nbformat_minor": 2
}
